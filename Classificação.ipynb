{
  "cells": [
    {
      "cell_type": "markdown",
      "metadata": {
        "id": "view-in-github",
        "colab_type": "text"
      },
      "source": [
        "<a href=\"https://colab.research.google.com/github/RafaelMeirellesJ/MineracaoDeDados/blob/main/Classifica%C3%A7%C3%A3o.ipynb\" target=\"_parent\"><img src=\"https://colab.research.google.com/assets/colab-badge.svg\" alt=\"Open In Colab\"/></a>"
      ]
    },
    {
      "cell_type": "markdown",
      "metadata": {
        "id": "ROxPuqb2hAA4"
      },
      "source": [
        "# Unidade 1 - Tarefas de Mineração de Dados"
      ]
    },
    {
      "cell_type": "markdown",
      "metadata": {
        "id": "3R3g4sfNhAA8"
      },
      "source": [
        "As tarefas de mineração de dados referem-se ao processo de explorar grandes conjuntos de dados para encontrar padrões, relações e informações úteis. A mineração de dados envolve uma variedade de técnicas, algoritmos e abordagens para identificar informações ocultas e valiosas nos dados, que podem ser utilizadas para tomar decisões informadas em uma variedade de áreas, como negócios, ciência, saúde, governo, entre outros.\n",
        "\n",
        "Algumas das principais tarefas de mineração de dados incluem:\n",
        "1.\t`Classificação`: é a tarefa de classificar objetos em categorias pré-definidas com base em suas características.\n",
        "2.\t`Regressão`: é a tarefa de prever um valor numérico com base em um conjunto de variáveis independentes.\n",
        "3.\t`Clusterização`: é a tarefa de agrupar objetos em grupos ou clusters com base em suas características.\n",
        "4.\t`Associação`: é a tarefa de identificar relações ou associações entre os diferentes atributos ou variáveis do conjunto de dados.\n",
        "5.\t`Análise de anomalias`: é a tarefa de identificar anomalias ou padrões incomuns nos dados, que podem ser indicativos de problemas ou oportunidades.\n",
        "6.\t`Sumarização`: é a tarefa de criar uma representação resumida dos dados para ajudar na sua compreensão e interpretação.\n",
        "7.\t`Previsão de séries temporais`: é a tarefa de prever valores futuros com base em padrões e tendências identificados nos dados históricos.\n",
        "\n",
        "Em resumo, as \"tarefas\" de Mineração de Dados realizam a fase de descoberta de conhecimento em Bases de Dados, em inglês, KDD - Knowledge Discovery in Databases. O KDD é formado por diversas etapas para transformar os dados brutos em informações relevantes (conhecimento útil).\n",
        "\n",
        "### Qual a importância da Classificação e Regressão em mineração de dados?\n",
        "\n",
        "A classificação e regressão são técnicas fundamentais em mineração de dados, que permitem, por exemplo, fazer previsões a partir de dados históricos.\n",
        "\n",
        "A classificação é usada para prever a classe ou categoria de um objeto ou evento com base em atributos conhecidos. Por exemplo, em uma empresa de telecomunicações, a classificação pode ser usada para prever se um cliente irá cancelar ou não seu serviço com base em fatores como tempo de contrato, taxa de uso e histórico de pagamentos. Isso permite que a empresa tome medidas para evitar o cancelamento de clientes, como oferecer promoções ou um serviço de melhor qualidade.\n",
        "\n",
        "Já a regressão é usada para prever um valor numérico a partir de um conjunto de variáveis conhecidas. Por exemplo, em uma empresa de seguros, a regressão pode ser usada para prever o valor de uma apólice com base em fatores como idade, histórico de sinistros e tipo de veículo. Isso ajuda a empresa a determinar o preço da apólice de forma mais precisa e justa.\n",
        "\n",
        "Ambas as técnicas são importantes porque permitem que as empresas tomem decisões mais informadas com base em dados históricos, tornando suas operações mais eficientes e reduzindo custos. Além disso, elas podem ser aplicadas em diversas ajudando as empresas a obter insights valiosos e tomar decisões mais precisas e estratégicas.\n",
        "\n",
        "### Algumas características importantes da classificação e regressão incluem:\n",
        "•   São técnicas de aprendizado supervisionado, ou seja, exigem um conjunto de dados com as classes conhecidas para treinar o modelo.\n",
        "\n",
        "•\tPodem ser aplicadas em diversas áreas, como finanças, saúde, marketing, segurança, entre outras.\n",
        "\n",
        "•\tRequerem o uso de algoritmos de aprendizado de máquina, que podem variar de acordo com o tipo de problema a ser resolvido.\n",
        "\n",
        "•\tPodem ser usadas em conjunto com outras técnicas de mineração de dados, como associação e agrupamento, para obter insights mais abrangentes sobre um conjunto de dados.\n",
        "\n",
        "### Alguns algoritmos e técnicas utilizadas em classificação e regressão\n",
        "Os algoritmos e técnicas utilizados em classificação e regressão podem variar de acordo com o tipo de problema a ser resolvido e as características do conjunto de dados. No entanto, existem algumas técnicas e algoritmos comumente utilizados em ambas as tarefas:\n",
        "\n",
        "1.\t`Árvores de decisão`: consiste em um modelo de árvore que divide o conjunto de dados em subconjuntos menores com base nas características ou atributos dos dados, até chegar a uma decisão final.\n",
        "\n",
        "2.\t`K-NN (K-Nearest Neighbors)`: é um algoritmo que calcula a distância entre cada objeto no conjunto de dados e seus vizinhos mais próximos, para determinar sua classe ou valor previsto.\n",
        "\n",
        "3.\t`Naive Bayes`: é um algoritmo baseado no Teorema de Bayes que utiliza a probabilidade condicional para determinar a classe ou valor previsto de um objeto no conjunto de dados.\n",
        "\n",
        "4.\t`Regressão Linear`: é uma técnica que utiliza uma equação linear para prever o valor numérico de uma variável dependente com base em uma ou mais variáveis independentes.\n",
        "\n",
        "5.\t`Redes Neurais Artificiais`: são modelos inspirados no funcionamento do cérebro humano, que utilizam camadas de neurônios artificiais interconectados para fazer previsões.\n",
        "\n",
        "6.\t`Máquinas de Vetores de Suporte (SVM)`: é um algoritmo que busca encontrar a melhor linha ou superfície de separação entre as classes do conjunto de dados.\n",
        "\n",
        "Esses são apenas alguns exemplos de algoritmos e técnicas utilizados em classificação e regressão na mineração de dados. A escolha do algoritmo mais adequado depende do tipo de problema a ser resolvido, da qualidade e tamanho do conjunto de dados, da complexidade do modelo e de outros fatores específicos do contexto da análise de dados.\n",
        "\n",
        "### Limitações e desafios das tarefas de classificação e regressão em mineração de dados\n",
        "Embora a classificação e regressão sejam técnicas poderosas da mineração de dados, elas também apresentam algumas limitações e desafios. Algumas das principais são:\n",
        "\n",
        "1.\t`Disponibilidade de dados`: as tarefas de classificação e regressão exigem uma quantidade significativa de dados de treinamento para construir modelos confiáveis e precisos. Se os dados disponíveis são limitados ou incompletos, pode ser difícil criar um modelo com alta acurácia.\n",
        "\n",
        "2.\t`Complexidade do modelo`: alguns conjuntos de dados podem ser tão complexos que é difícil encontrar um modelo que possa prever corretamente as classes ou valores alvo. Isso pode levar à criação de modelos excessivamente complexos, que podem ser difíceis de interpretar e entender.\n",
        "\n",
        "3.\t`Overfitting`: é o fenômeno em que o modelo é ajustado em excesso aos dados de treinamento, tornando-o menos preciso ao fazer previsões em dados desconhecidos. Isso pode ocorrer quando o modelo é muito específico para os dados de treinamento e não consegue capturar as variações dos dados novos e desconhecidos.\n",
        "\n",
        "4.\t`Desequilíbrio de classes`: algumas tarefas de classificação podem ter um desequilíbrio nas classes, o que significa que uma classe pode ter muito mais exemplos do que outra. Isso pode levar a um viés do modelo em favor da classe majoritária e a uma baixa precisão na previsão da classe minoritária.\n",
        "\n",
        "5.\t`Interpretabilidade do modelo`: alguns modelos de classificação e regressão podem ser difíceis de interpretar, especialmente quando são baseados em algoritmos complexos, como redes neurais. Isso pode dificultar a identificação das variáveis mais importantes ou a explicação dos resultados para pessoas mais leigas na área.\n",
        "\n",
        "Essas são apenas algumas das limitações e desafios que as tarefas de classificação e regressão podem enfrentar na mineração de dados. É importante levar em consideração esses aspectos ao selecionar a técnica e o algoritmo adequados para cada problema de análise de dados."
      ]
    },
    {
      "cell_type": "markdown",
      "metadata": {
        "id": "SVgknxG-hAA-"
      },
      "source": [
        "# Classificação"
      ]
    },
    {
      "cell_type": "markdown",
      "metadata": {
        "id": "jc5GibMGhAA_"
      },
      "source": [
        "A classificação é uma das tarefas fundamentais na área de Mineração de Dados, que consiste em treinar um modelo a partir de um conjunto de dados rotulados (que já conhecemos as informações que os dados possuem), de forma que esse modelo possa ser usado para classificar novos dados não rotulados em categorias pré-definidas.\n",
        "\n",
        "Em outras palavras, a classificação é um processo de atribuição de rótulos ou classes a um conjunto de dados com base em seus atributos ou características. O objetivo é identificar um modelo ou padrão que possa ser usado para prever a classe de novos dados com base nas informações contidas nos dados de treinamento.\n",
        "\n",
        "Existem vários algoritmos de classificação, incluindo árvores de decisão, redes neurais, regressão logística, SVM (máquinas de vetor de suporte), Naive Bayes e K-Nearest Neighbors (KNN). Cada um desses algoritmos tem suas próprias vantagens e desvantagens e são mais adequados para diferentes tipos de problemas de classificação.\n",
        "\n",
        "### Exemplo de aplicação de Classificação:\n",
        "Um exemplo de classificação em Tarefas de Mineração de Dados pode ser a classificação de e-mails em spam e não-spam. O objetivo seria treinar um modelo que pudesse classificar novos e-mails em spam ou não-spam com base em suas características, como palavras-chave, remetente, assunto, quantidade de caracteres, etc.\n",
        "\n",
        "O conjunto de dados para este exemplo seria composto por uma lista de e-mails já classificados manualmente como spam ou não-spam. O modelo seria treinado usando algoritmos de aprendizado de máquina supervisionados, onde as características dos e-mails seriam usadas como variáveis independentes e a classe de spam ou não-spam seria a variável dependente.\n",
        "\n",
        "Após o treinamento, o modelo seria testado com novos e-mails, validado e, caso o modelo atinja uma elevada acurácia para prever se um e-mail é spam ou não, este modelo de classificação automática de e-mails poderia ajudar a economizar tempo e aumentar a eficiência de gerenciamento de e-mails.\n",
        "\n",
        "### Outro exemplo de aplicação de Classificação:\n",
        "A classificação de imagens em diferentes categorias. Por exemplo, suponha que temos um conjunto de imagens de animais e queremos classificá-las em categorias como cães, gatos, pássaros, entre outros.\n",
        "\n",
        "O conjunto de dados seria composto por imagens rotuladas de diferentes animais. O modelo seria treinado usando algoritmos de aprendizado de máquina supervisionados, onde as características das imagens (como a cor, a forma, o tamanho, entre outros) seriam usadas como variáveis independentes e a categoria do animal seria a variável dependente.\n",
        "\n",
        "Após o treinamento, teste e validação do modelo, poderíamos classificar novas imagens de animais em suas respectivas categorias com alta precisão.\n",
        "\n",
        "Este tipo de classificação automática de imagens pode ser útil em áreas como reconhecimento de objetos, análise de imagens médicas, vigilância e muitas outras. Atualmente, o estado da arte na visão computacional é o algoritmo YOLO (You Only Look Once), que possuí uma arquitetura de rede neural CNN (Convolutional Neural Netword).\n",
        "\n",
        "Caso se interesse por esta área de Visão Computacional, recomendo a leitura do artigo disponível em https://pjreddie.com/media/files/papers/yolo_1.pdf"
      ]
    },
    {
      "cell_type": "markdown",
      "metadata": {
        "id": "eIGUSkt9hAA_"
      },
      "source": [
        "# Vamos a prática\n",
        "\n",
        "**Passo 1: Entendimento do Contexto do Problema**\n",
        "\n",
        "**Contexto**: Imagine que você é um professor e deseja ajudar os alunos a se prepararem para um exame importante. Você coletou dados sobre o número de horas que cada aluno estudou e suas notas em simulados anteriores.\n",
        "\n",
        "**Objetivo**: O objetivo é criar um modelo de classificação que possa prever se um aluno passará no exame com base nas horas de estudo e nas notas em simulados.\n",
        "\n",
        "**Passo 2: Preparação dos Dados**\n",
        "\n",
        "Primeiro, vamos criar um conjunto de dados de exemplo contendo as informações sobre os alunos, incluindo as horas de estudo, as notas em simulados anteriores e se eles passaram ou não:"
      ]
    },
    {
      "cell_type": "code",
      "source": [
        "import pandas as pd\n",
        "\n",
        "data = {\n",
        "    'Horas de Estudo': [5, 1, 2, 8, 7, 4, 6, 3, 9, 10],\n",
        "    'Nota Simulado': [90, 50, 60, 85, 75, 70, 80, 65, 95, 100],\n",
        "    'Passou': [1, 0, 0, 1, 1, 1, 1, 0, 1, 1]\n",
        "}\n",
        "\n",
        "df = pd.DataFrame(data)"
      ],
      "metadata": {
        "id": "_DxkmZsCjYQc"
      },
      "execution_count": null,
      "outputs": []
    },
    {
      "cell_type": "markdown",
      "source": [
        "**Passo 3: Divisão dos Dados em Atributos e Rótulos**\n",
        "\n",
        "Vamos dividir os dados em atributos (X) e rótulos (y):"
      ],
      "metadata": {
        "id": "h3HNRFb7jezI"
      }
    },
    {
      "cell_type": "code",
      "source": [
        "x = df[['Horas de Estudo', 'Nota Simulado']]\n",
        "y = df['Passou']"
      ],
      "metadata": {
        "id": "uT67NTBgjjS5"
      },
      "execution_count": null,
      "outputs": []
    },
    {
      "cell_type": "markdown",
      "source": [
        "**Passo 4: Divisão dos Dados em Conjuntos de Treinamento e Teste**\n",
        "\n",
        "Dividiremos os dados em conjuntos de treinamento e teste para avaliar a performance dos modelos:\n",
        "\n",
        "Primeiro precisamos importa a função train_test_split da biblioteca Scikit-learn (sklearn). Essa função é usada para dividir o conjunto de dados em subconjuntos de treinamento e teste.\n",
        "\n",
        "Depois vamos dividir os dados em conjuntos de treinamento e teste. ***X_train*** e ***y_train*** são os conjuntos de treinamento para atributos e rótulos, respectivamente. ***X_test*** e ***y_test*** são os conjuntos de teste."
      ],
      "metadata": {
        "id": "0bPwxQFRjnG7"
      }
    },
    {
      "cell_type": "code",
      "source": [
        "from sklearn.model_selection import train_test_split\n",
        "\n",
        "x_train, x_test, y_train, y_test = train_test_split(x, y, test_size=0.2, random_state=42)"
      ],
      "metadata": {
        "id": "BBWbuYHMjspB"
      },
      "execution_count": null,
      "outputs": []
    },
    {
      "cell_type": "markdown",
      "source": [
        "**Passo 5: Treinamento e Avaliação dos Modelos**\n",
        "\n",
        "Agora, vamos treinar três modelos diferentes e avaliar sua acurácia:\n",
        "\n",
        "Primeiro precisamos importam três classes de algoritmos de aprendizado de máquina da biblioteca Scikit-learn.   e .\n",
        "\n",
        "*   **LogisticRegression** é para Regressão Logística.\n",
        "*   **KNeighborsClassifier** é para k-Nearest Neighbors (K-NN), e\n",
        "*   **SVC** é para Support Vector Machines (SVM).\n",
        "\n",
        "É necessário também importar a função **accuracy_score** da Scikit-learn, que é usada para avaliar a precisão dos modelos de classificação.\n",
        "\n",
        "Depois deve ser criado um dicionário models que contém os modelos que serão treinados: Regressão Logística, K-NN e SVM.\n",
        "\n",
        "Por fim, para cada modelo no dicionário models, é necessário fazer um loop que treina o modelo com os dados de treinamento, faz previsões com os dados de teste, calcula a acurácia das previsões e imprime o resultado."
      ],
      "metadata": {
        "id": "Zn3DeomyjwEv"
      }
    },
    {
      "cell_type": "code",
      "source": [
        "from sklearn.linear_model import LogisticRegression\n",
        "from sklearn.neighbors import KNeighborsClassifier\n",
        "from sklearn.svm import SVC\n",
        "from sklearn.metrics import accuracy_score\n",
        "\n",
        "models = {\n",
        "  'Regressão Logistica' : LogisticRegression(),\n",
        "  'k-NN' : KNeighborsClassifier(),\n",
        "  'SBM' : SVC()\n",
        "}\n",
        "\n",
        "for name, model in models.items():\n",
        "    model.fit(x_train, y_train)\n",
        "    y_pred = model.predict(x_test)\n",
        "    accuracy = accuracy_score(y_test, y_pred)\n",
        "    print(f'{name} : Acurácia = {accuracy: .2f}')"
      ],
      "metadata": {
        "id": "sSsuUBSgj0gd",
        "colab": {
          "base_uri": "https://localhost:8080/"
        },
        "outputId": "eda0ab55-aa83-4c1d-f171-753ef911c345"
      },
      "execution_count": null,
      "outputs": [
        {
          "output_type": "stream",
          "name": "stdout",
          "text": [
            "Regressão Logistica : Acurácia =  1.00\n",
            "k-NN : Acurácia =  0.50\n",
            "SBM : Acurácia =  0.50\n"
          ]
        }
      ]
    },
    {
      "cell_type": "markdown",
      "source": [
        "**Passo 6: Previsão para um Novo Aluno**\n",
        "\n",
        "Vamos fazer previsões para um novo aluno que estudou por 6 horas e obteve 70 em um simulado:\n",
        "\n",
        "Primeiro, cria um DataFrame new_student com informações sobre um novo aluno (horas de estudo e nota de simulado).\n",
        "\n",
        "Para cada modelo no dicionário models, o loop faz uma previsão para o novo aluno e imprime se o modelo prevê que ele passou ou não no exame."
      ],
      "metadata": {
        "id": "Q1FSEOZlj4Bo"
      }
    },
    {
      "cell_type": "code",
      "source": [
        "new_student = pd.DataFrame ({'Horas de Estudo' : [6], 'Nota Simulado' : [70]})\n",
        "\n",
        "for name, model in models.items():\n",
        "    prediction = model.predict(new_student)\n",
        "    print(f'Previsão de {name} para o novo aluno: Passou' if prediction[0] == 1 else 'Não passou')"
      ],
      "metadata": {
        "id": "MhrZkF2lj975",
        "colab": {
          "base_uri": "https://localhost:8080/"
        },
        "outputId": "52ffa91a-e1da-439b-caaa-1a755dc1ae2c"
      },
      "execution_count": null,
      "outputs": [
        {
          "output_type": "stream",
          "name": "stdout",
          "text": [
            "Previsão de Regressão Logistica para o novo aluno: Passou\n",
            "Previsão de k-NN para o novo aluno: Passou\n",
            "Previsão de SBM para o novo aluno: Passou\n"
          ]
        }
      ]
    },
    {
      "cell_type": "markdown",
      "source": [
        "Neste exemplo, passamos pelo processo de entender o problema de prever se um aluno passará no exame com base nas horas de estudo e nas notas em simulados anteriores. Construímos um modelo de classificação utilizando algoritmos de Regressão Logística, k-Nearest Neighbors (K-NN) e Support Vector Machines (SVM). Demonstramos como preparar os dados, dividir em conjuntos de treinamento e teste, treinar os modelos e fazer previsões para um novo aluno."
      ],
      "metadata": {
        "id": "Lw58rg0_kSnc"
      }
    }
  ],
  "metadata": {
    "kernelspec": {
      "display_name": "base",
      "language": "python",
      "name": "python3"
    },
    "language_info": {
      "codemirror_mode": {
        "name": "ipython",
        "version": 3
      },
      "file_extension": ".py",
      "mimetype": "text/x-python",
      "name": "python",
      "nbconvert_exporter": "python",
      "pygments_lexer": "ipython3",
      "version": "3.9.16"
    },
    "orig_nbformat": 4,
    "colab": {
      "provenance": [],
      "include_colab_link": true
    }
  },
  "nbformat": 4,
  "nbformat_minor": 0
}